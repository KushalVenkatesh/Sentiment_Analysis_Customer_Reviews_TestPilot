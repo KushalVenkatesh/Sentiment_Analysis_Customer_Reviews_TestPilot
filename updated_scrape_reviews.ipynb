{
  "nbformat": 4,
  "nbformat_minor": 0,
  "metadata": {
    "colab": {
      "name": "updated_scrape_reviews.ipynb",
      "version": "0.3.2",
      "provenance": [],
      "collapsed_sections": [],
      "include_colab_link": true
    },
    "kernelspec": {
      "name": "python3",
      "display_name": "Python 3"
    }
  },
  "cells": [
    {
      "cell_type": "markdown",
      "metadata": {
        "id": "view-in-github",
        "colab_type": "text"
      },
      "source": [
        "[View in Colaboratory](https://colab.research.google.com/github/KushalVenkatesh/Sentiment_Analysis_Customer_Reviews_TestPilot/blob/master/updated_scrape_reviews.ipynb)"
      ]
    },
    {
      "metadata": {
        "id": "KjZzf3Vz_wpa",
        "colab_type": "text"
      },
      "cell_type": "markdown",
      "source": [
        "# Scrape reviews"
      ]
    },
    {
      "metadata": {
        "id": "116fYklb_wpb",
        "colab_type": "code",
        "colab": {},
        "outputId": "8b4e5e31-2f98-4172-e50e-1a278c90104e"
      },
      "cell_type": "code",
      "source": [
        "!pip install request\n"
      ],
      "execution_count": 0,
      "outputs": [
        {
          "output_type": "stream",
          "text": [
            "Requirement already satisfied: request in d:\\python2\\lib\\site-packages (1.0.2)\n",
            "Requirement already satisfied: post in d:\\python2\\lib\\site-packages (from request) (1.0.2)\n",
            "Requirement already satisfied: get in d:\\python2\\lib\\site-packages (from request) (1.0.3)\n",
            "Requirement already satisfied: setuptools in d:\\python2\\lib\\site-packages (from request) (39.1.0)\n",
            "Requirement already satisfied: query-string in d:\\python2\\lib\\site-packages (from get->request) (1.0.2)\n",
            "Requirement already satisfied: public in d:\\python2\\lib\\site-packages (from query-string->get->request) (1.0.3)\n"
          ],
          "name": "stdout"
        },
        {
          "output_type": "stream",
          "text": [
            "distributed 1.21.8 requires msgpack, which is not installed.\n",
            "grin 1.2.1 requires argparse>=1.1, which is not installed.\n"
          ],
          "name": "stderr"
        }
      ]
    },
    {
      "metadata": {
        "id": "jAW4ZpCh_wpf",
        "colab_type": "code",
        "colab": {},
        "outputId": "2e713a26-6912-4034-9fb5-a213d7347622"
      },
      "cell_type": "code",
      "source": [
        "!pip install python-requests"
      ],
      "execution_count": 0,
      "outputs": [
        {
          "output_type": "stream",
          "text": [
            "Collecting python-requests\n"
          ],
          "name": "stdout"
        },
        {
          "output_type": "stream",
          "text": [
            "  Could not find a version that satisfies the requirement python-requests (from versions: )\n",
            "No matching distribution found for python-requests\n"
          ],
          "name": "stderr"
        }
      ]
    },
    {
      "metadata": {
        "id": "upVBXL8n_wph",
        "colab_type": "code",
        "colab": {},
        "outputId": "4395f703-c007-4b65-c90c-a57048fcfbd0"
      },
      "cell_type": "code",
      "source": [
        "import urllib\n",
        "urllib.urlretrieve"
      ],
      "execution_count": 0,
      "outputs": [
        {
          "output_type": "execute_result",
          "data": {
            "text/plain": [
              "<function urllib.urlretrieve>"
            ]
          },
          "metadata": {
            "tags": []
          },
          "execution_count": 4
        }
      ]
    },
    {
      "metadata": {
        "id": "bIOff3w-_wpj",
        "colab_type": "code",
        "colab": {}
      },
      "cell_type": "code",
      "source": [
        "#urllib.urlopen(url)"
      ],
      "execution_count": 0,
      "outputs": []
    },
    {
      "metadata": {
        "id": "n0tMmU85_wpl",
        "colab_type": "code",
        "colab": {}
      },
      "cell_type": "code",
      "source": [
        "import numpy as np\n",
        "from bs4 import BeautifulSoup\n",
        "import urllib\n",
        "import datetime\n",
        "import os\n",
        "import json\n",
        "import time"
      ],
      "execution_count": 0,
      "outputs": []
    },
    {
      "metadata": {
        "id": "yuREeYK0_wpr",
        "colab_type": "code",
        "colab": {},
        "outputId": "bb1bd8eb-6b63-4df5-c51c-c0d0179ee12d"
      },
      "cell_type": "code",
      "source": [
        "!pip install urllib"
      ],
      "execution_count": 0,
      "outputs": [
        {
          "output_type": "stream",
          "text": [
            "Collecting urllib\n"
          ],
          "name": "stdout"
        },
        {
          "output_type": "stream",
          "text": [
            "  Could not find a version that satisfies the requirement urllib (from versions: )\n",
            "No matching distribution found for urllib\n"
          ],
          "name": "stderr"
        }
      ]
    },
    {
      "metadata": {
        "id": "tbLMR2tG_wpt",
        "colab_type": "text"
      },
      "cell_type": "markdown",
      "source": [
        "## Scrape home page"
      ]
    },
    {
      "metadata": {
        "id": "S9vxFVVC_wpu",
        "colab_type": "code",
        "colab": {}
      },
      "cell_type": "code",
      "source": [
        "url_rebtel = 'https://www.trustpilot.com/review/www.rebtel.com'\n",
        "url_rebtel_page = url_rebtel + '?page='"
      ],
      "execution_count": 0,
      "outputs": []
    },
    {
      "metadata": {
        "id": "jDxbm9qm_wpw",
        "colab_type": "code",
        "colab": {}
      },
      "cell_type": "code",
      "source": [
        "with urllib.request.urlopen(url_rebtel) as url:\n",
        "    homepage = url.read()"
      ],
      "execution_count": 0,
      "outputs": []
    },
    {
      "metadata": {
        "id": "SsxcgJbL_wp0",
        "colab_type": "code",
        "colab": {}
      },
      "cell_type": "code",
      "source": [
        "soup = BeautifulSoup(homepage, 'html.parser')\n",
        "# print(soup.prettify())"
      ],
      "execution_count": 0,
      "outputs": []
    },
    {
      "metadata": {
        "id": "_0LWUUox_wp3",
        "colab_type": "code",
        "colab": {
          "base_uri": "https://localhost:8080/",
          "height": 155
        },
        "outputId": "cb7f6dc4-4317-40bb-c124-cfbeba565e30"
      },
      "cell_type": "code",
      "source": [
        "# Explore content of home page\n",
        "# list(soup.children)\n",
        "# soup.head\n",
        "print (soup.prettify()[0:200])"
      ],
      "execution_count": 0,
      "outputs": [
        {
          "output_type": "stream",
          "text": [
            "<!DOCTYPE html>\n",
            "<html lang=\"en\">\n",
            " <head>\n",
            "  <!--[if IE]>\n",
            "<meta http-equiv=\"X-UA-Compatible\" content=\"chrome=1\">\n",
            "<![endif]-->\n",
            "  <title>\n",
            "   Rebtel Reviews | Read Customer Service Reviews of www.rebtel.co\n"
          ],
          "name": "stdout"
        }
      ]
    },
    {
      "metadata": {
        "id": "O3-YLsqi_wp7",
        "colab_type": "code",
        "colab": {
          "base_uri": "https://localhost:8080/",
          "height": 34
        },
        "outputId": "b66c8c08-f751-41f1-fce5-718417d2bb7e"
      },
      "cell_type": "code",
      "source": [
        "# Parse content/reviews of home page\n",
        "reviews = soup.find_all('div', class_='review-stack')\n",
        "container = soup.find_all('div', class_='reviews-container')\n",
        "len(reviews)"
      ],
      "execution_count": 0,
      "outputs": [
        {
          "output_type": "execute_result",
          "data": {
            "text/plain": [
              "20"
            ]
          },
          "metadata": {
            "tags": []
          },
          "execution_count": 7
        }
      ]
    },
    {
      "metadata": {
        "id": "Fmvuh80F_wp9",
        "colab_type": "code",
        "colab": {
          "base_uri": "https://localhost:8080/",
          "height": 34
        },
        "outputId": "6d322cd6-17a0-4163-9e80-1e1458e62c88"
      },
      "cell_type": "code",
      "source": [
        "# Parse total number of review pages\n",
        "pagination = soup.find_all('a', class_='pagination-page')\n",
        "page_num = [page['data-page-number'] for page in pagination]\n",
        "page_num = [int(page) for page in page_num if page != 'next-page']\n",
        "page_max = max(page_num)\n",
        "page_max"
      ],
      "execution_count": 0,
      "outputs": [
        {
          "output_type": "execute_result",
          "data": {
            "text/plain": [
              "157"
            ]
          },
          "metadata": {
            "tags": []
          },
          "execution_count": 8
        }
      ]
    },
    {
      "metadata": {
        "id": "yzKnAqP4_wp_",
        "colab_type": "text"
      },
      "cell_type": "markdown",
      "source": [
        "## Scrape all pages"
      ]
    },
    {
      "metadata": {
        "id": "2KjeQzQ2_wqA",
        "colab_type": "code",
        "colab": {}
      },
      "cell_type": "code",
      "source": [
        "data = []  # reviews is a list of dictionaries\n",
        "\n",
        "# Iterate over webpages\n",
        "for page in range(1, page_max + 1):\n",
        "    \n",
        "    # If first page, take url of homepage; otherwise, url + page\n",
        "    if (page == 1):\n",
        "        url_complete = url_rebtel\n",
        "    else:\n",
        "        url_complete = url_rebtel_page + str(page)\n",
        "    \n",
        "    # Get content of webpage\n",
        "    with urllib.request.urlopen(url_complete) as url:\n",
        "            page_content = url.read()        \n",
        "    soup = BeautifulSoup(page_content, 'html.parser')\n",
        "    reviews = soup.find_all('div', class_='review-stack')\n",
        "    \n",
        "    # Iterate over reviews in page\n",
        "    for i in range(0, len(reviews)):  \n",
        "        # Parse user id\n",
        "        user_id = reviews[i].find('a', class_='consumer-info')['href'].strip()\n",
        "        user_id = user_id.replace('/users/', '')\n",
        "        print(user_id)\n",
        "        \n",
        "        # Parse user name\n",
        "        user_name = reviews[i].find('h3', class_='consumer-info__details__name').get_text().strip()\n",
        "        print(user_name)\n",
        "        \n",
        "        # Parse review title\n",
        "        review_title = reviews[i].find('h2', class_='review-info__body__title')\n",
        "        review_title = review_title.get_text().strip()\n",
        "        print(review_title)\n",
        "        \n",
        "        # Parse review content\n",
        "        review_text = reviews[i].find('p', class_='review-info__body__text').get_text().strip()\n",
        "        print(review_text)\n",
        "        \n",
        "        # Parse review answer\n",
        "        review_answer = reviews[i].find('div', class_='company-reply__content__body')\n",
        "        if (review_answer is not None):\n",
        "            review_answer = review_answer.get_text().strip()\n",
        "        else:\n",
        "            review_answer = None\n",
        "        print(review_answer)\n",
        "        \n",
        "        # Parse review stars\n",
        "        review_stars = int(reviews[i].find('div', class_='social-share-network social-share-network--twitter')['data-status'].split()[-5])\n",
        "        \n",
        "        # Parse review date\n",
        "        review_date = reviews[i].find('time', class_='ndate')['datetime'].strip()\n",
        "        review_date = review_date.replace('.000+00:00', '')\n",
        "        review_date = review_date.replace('T', ' ')\n",
        "        \n",
        "        # Parse whether review was verified by Rebtel\n",
        "        review_verify_text = reviews[i].find('div', class_='review-verified')\n",
        "        if (review_verify_text is not None):\n",
        "            review_verify = 'Verified order' in review_verify_text.get_text()\n",
        "        else:\n",
        "            review_verify = False        \n",
        "        \n",
        "        # Store data\n",
        "        data.append({  \n",
        "            'user_id': user_id,\n",
        "            'user': user_name,\n",
        "            'title': review_title,\n",
        "            'text': review_text,\n",
        "            'answer': review_answer,\n",
        "            'stars': review_stars,\n",
        "            'date': review_date,\n",
        "            'verify': review_verify\n",
        "        })\n",
        "    "
      ],
      "execution_count": 0,
      "outputs": []
    },
    {
      "metadata": {
        "id": "L8nnVU9irXSK",
        "colab_type": "code",
        "colab": {
          "base_uri": "https://localhost:8080/",
          "height": 34
        },
        "outputId": "0215160e-b937-49ca-badb-13de52126730"
      },
      "cell_type": "code",
      "source": [
        "len(data)"
      ],
      "execution_count": 0,
      "outputs": [
        {
          "output_type": "execute_result",
          "data": {
            "text/plain": [
              "3124"
            ]
          },
          "metadata": {
            "tags": []
          },
          "execution_count": 34
        }
      ]
    },
    {
      "metadata": {
        "id": "d4d4xaXH_wqC",
        "colab_type": "text"
      },
      "cell_type": "markdown",
      "source": [
        "## Save data"
      ]
    },
    {
      "metadata": {
        "id": "18PybZKje3BJ",
        "colab_type": "code",
        "colab": {
          "base_uri": "https://localhost:8080/",
          "height": 34
        },
        "outputId": "61f0d3fe-4962-4ea5-eb47-4285163b0bcb"
      },
      "cell_type": "code",
      "source": [
        "#!ls\n",
        "#%cd rebtel_sentiment_analysis\n",
        "!ls\n",
        "#%cd .."
      ],
      "execution_count": 0,
      "outputs": [
        {
          "output_type": "stream",
          "text": [
            "code  data  docs  environment.yml  notebooks  README.md\r\n"
          ],
          "name": "stdout"
        }
      ]
    },
    {
      "metadata": {
        "id": "WEV0hfUq_wqD",
        "colab_type": "code",
        "colab": {}
      },
      "cell_type": "code",
      "source": [
        "today = time.strftime('%Y%m%d')\n",
        "file_name = 'data/rawdata_' + today + '.json'"
      ],
      "execution_count": 0,
      "outputs": []
    },
    {
      "metadata": {
        "id": "MLboA95f_wqF",
        "colab_type": "code",
        "colab": {}
      },
      "cell_type": "code",
      "source": [
        "with open(file_name, 'w') as outfile:  \n",
        "    json.dump(data, outfile, indent = 2)"
      ],
      "execution_count": 0,
      "outputs": []
    },
    {
      "metadata": {
        "id": "U8IHKxE8_wqG",
        "colab_type": "code",
        "colab": {
          "base_uri": "https://localhost:8080/",
          "height": 34
        },
        "outputId": "f02ba70c-3385-439e-a4ff-9da593c8f5c1"
      },
      "cell_type": "code",
      "source": [
        "!ls\n"
      ],
      "execution_count": 0,
      "outputs": [
        {
          "output_type": "stream",
          "text": [
            "code  data  docs  environment.yml  notebooks  README.md\r\n"
          ],
          "name": "stdout"
        }
      ]
    },
    {
      "metadata": {
        "id": "HKpu5xstzzb0",
        "colab_type": "code",
        "colab": {
          "base_uri": "https://localhost:8080/",
          "height": 34
        },
        "outputId": "86a0a23f-898a-4eb8-e7d6-87922ea2fbee"
      },
      "cell_type": "code",
      "source": [
        "pwd"
      ],
      "execution_count": 0,
      "outputs": [
        {
          "output_type": "execute_result",
          "data": {
            "text/plain": [
              "'/content/rebtel_sentiment_analysis'"
            ]
          },
          "metadata": {
            "tags": []
          },
          "execution_count": 38
        }
      ]
    },
    {
      "metadata": {
        "id": "GNdyZmXWhktP",
        "colab_type": "code",
        "colab": {}
      },
      "cell_type": "code",
      "source": [
        ""
      ],
      "execution_count": 0,
      "outputs": []
    }
  ]
}