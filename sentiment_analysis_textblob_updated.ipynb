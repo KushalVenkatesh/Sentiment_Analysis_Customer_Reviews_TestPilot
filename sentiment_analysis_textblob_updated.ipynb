{
  "nbformat": 4,
  "nbformat_minor": 0,
  "metadata": {
    "colab": {
      "name": "sentiment_analysis_textblob_updated.ipynb",
      "version": "0.3.2",
      "provenance": [],
      "collapsed_sections": [],
      "include_colab_link": true
    },
    "kernelspec": {
      "display_name": "Python 2",
      "language": "python",
      "name": "python2"
    }
  },
  "cells": [
    {
      "cell_type": "markdown",
      "metadata": {
        "id": "view-in-github",
        "colab_type": "text"
      },
      "source": [
        "[View in Colaboratory](https://colab.research.google.com/github/KushalVenkatesh/Sentiment_Analysis_Customer_Reviews_TestPilot/blob/master/sentiment_analysis_textblob_updated.ipynb)"
      ]
    },
    {
      "metadata": {
        "id": "4zZOnEUgyycs",
        "colab_type": "text"
      },
      "cell_type": "markdown",
      "source": [
        "# SENTIMENT ANALYSIS WITH TEXTBLOB"
      ]
    },
    {
      "metadata": {
        "id": "C1D9S3NUzNQB",
        "colab_type": "code",
        "colab": {
          "base_uri": "https://localhost:8080/",
          "height": 69
        },
        "outputId": "3934c416-530c-4a0c-c8aa-e25266c00ee5"
      },
      "cell_type": "code",
      "source": [
        "!pip install textblob"
      ],
      "execution_count": 0,
      "outputs": [
        {
          "output_type": "stream",
          "text": [
            "Requirement already satisfied: textblob in /usr/local/lib/python2.7/dist-packages (0.15.1)\r\n",
            "Requirement already satisfied: nltk>=3.1 in /usr/local/lib/python2.7/dist-packages (from textblob) (3.2.5)\n",
            "Requirement already satisfied: six in /usr/local/lib/python2.7/dist-packages (from nltk>=3.1->textblob) (1.11.0)\n"
          ],
          "name": "stdout"
        }
      ]
    },
    {
      "metadata": {
        "id": "QMfcvlRXyyct",
        "colab_type": "code",
        "colab": {}
      },
      "cell_type": "code",
      "source": [
        "\n",
        "from textblob import TextBlob, Word\n",
        "import json\n",
        "import re\n",
        "import string\n",
        "import numpy as np\n",
        "import pandas as pd\n",
        "import matplotlib.pyplot as plt"
      ],
      "execution_count": 0,
      "outputs": []
    },
    {
      "metadata": {
        "id": "g4UK-gshGkRv",
        "colab_type": "code",
        "colab": {}
      },
      "cell_type": "code",
      "source": [
        "from google.colab import files\n",
        "files.download('rebtel_sentiment_analysis/data/rawdata_20180717.json') "
      ],
      "execution_count": 0,
      "outputs": []
    },
    {
      "metadata": {
        "id": "zTgTNHu9yycy",
        "colab_type": "code",
        "colab": {}
      },
      "cell_type": "code",
      "source": [
        "# Load raw data\n",
        "file_name = 'rebtel_sentiment_analysis/data/rawdata_20180717.json'\n",
        "with open(file_name) as json_data:\n",
        "    data = json.load(json_data)"
      ],
      "execution_count": 0,
      "outputs": []
    },
    {
      "metadata": {
        "id": "bSih8fT9yyc2",
        "colab_type": "code",
        "colab": {}
      },
      "cell_type": "code",
      "source": [
        "# Convert to dataframe and remove duplicates\n",
        "df = pd.DataFrame(data)\n",
        "df = df.drop_duplicates()"
      ],
      "execution_count": 0,
      "outputs": []
    },
    {
      "metadata": {
        "id": "eE2jkNhwyyc4",
        "colab_type": "code",
        "colab": {}
      },
      "cell_type": "code",
      "source": [
        "# Remove punctuation and numerical characters\n",
        "rem = string.punctuation\n",
        "pattern = r\"[{}]\".format(rem)\n",
        "\n",
        "df['text_nopunct'] = df['text'].str.replace(pattern, ' ')\n",
        "df['text_nopunct'] = df['text_nopunct'].str.replace('\\d+', '')"
      ],
      "execution_count": 0,
      "outputs": []
    },
    {
      "metadata": {
        "id": "Tp1FYquoyyc7",
        "colab_type": "code",
        "colab": {}
      },
      "cell_type": "code",
      "source": [
        "df['text_nopunct'][:10];"
      ],
      "execution_count": 0,
      "outputs": []
    },
    {
      "metadata": {
        "id": "mHvGqKw_yyc9",
        "colab_type": "code",
        "colab": {}
      },
      "cell_type": "code",
      "source": [
        "# Compute polarity and subjectivity of reviews\n",
        "polarity = [TextBlob(review).sentiment[0] for review in df.text_nopunct]\n",
        "subjectivity = [TextBlob(review).sentiment[1] for review in df.text_nopunct]"
      ],
      "execution_count": 0,
      "outputs": []
    },
    {
      "metadata": {
        "id": "KYeivDa2yyc_",
        "colab_type": "code",
        "colab": {
          "base_uri": "https://localhost:8080/",
          "height": 52
        },
        "outputId": "0ac3e76b-5eaa-4a89-a512-dc83d25f1f36"
      },
      "cell_type": "code",
      "source": [
        "# Compute correlation of polarity with number of stars\n",
        "np.corrcoef(polarity, df.stars)"
      ],
      "execution_count": 0,
      "outputs": [
        {
          "output_type": "execute_result",
          "data": {
            "text/plain": [
              "array([[1.        , 0.55871774],\n",
              "       [0.55871774, 1.        ]])"
            ]
          },
          "metadata": {
            "tags": []
          },
          "execution_count": 32
        }
      ]
    },
    {
      "metadata": {
        "id": "JpFloWATyydD",
        "colab_type": "code",
        "colab": {
          "base_uri": "https://localhost:8080/",
          "height": 52
        },
        "outputId": "2c941a5e-f07e-4949-c75f-0ce27c76ea5e"
      },
      "cell_type": "code",
      "source": [
        "# Compute correlation of subjectivity with number of stars\n",
        "np.corrcoef(subjectivity, df.stars)"
      ],
      "execution_count": 0,
      "outputs": [
        {
          "output_type": "execute_result",
          "data": {
            "text/plain": [
              "array([[1.        , 0.19890804],\n",
              "       [0.19890804, 1.        ]])"
            ]
          },
          "metadata": {
            "tags": []
          },
          "execution_count": 33
        }
      ]
    },
    {
      "metadata": {
        "id": "1OtB_1LCyydH",
        "colab_type": "code",
        "colab": {}
      },
      "cell_type": "code",
      "source": [
        "# Add polarity and subjectivity to data\n",
        "df['polarity'] = polarity\n",
        "df['subjectivity'] = subjectivity\n",
        "df.head(5);"
      ],
      "execution_count": 0,
      "outputs": []
    },
    {
      "metadata": {
        "id": "y0t96QAWyydJ",
        "colab_type": "code",
        "colab": {
          "base_uri": "https://localhost:8080/",
          "height": 289
        },
        "outputId": "7cbafef0-b306-4eac-e108-13fedc27861e"
      },
      "cell_type": "code",
      "source": [
        "# Histograms of polarity by number of stars\n",
        "%matplotlib inline\n",
        "df['polarity'].hist(by = df['stars']);"
      ],
      "execution_count": 0,
      "outputs": [
        {
          "output_type": "display_data",
          "data": {
            "image/png": "[encoded data removed]",
            "text/plain": [
              "<matplotlib.figure.Figure at 0x7f94c43f5c10>"
            ]
          },
          "metadata": {
            "tags": []
          }
        }
      ]
    },
    {
      "metadata": {
        "id": "_1Ev5WsPyydN",
        "colab_type": "code",
        "colab": {
          "base_uri": "https://localhost:8080/",
          "height": 289
        },
        "outputId": "8755c535-1837-49f6-a267-bf3c0fb306c7"
      },
      "cell_type": "code",
      "source": [
        "# Histograms of subjectivity by number of stars\n",
        "%matplotlib inline\n",
        "df['subjectivity'].hist(by = df['stars']);"
      ],
      "execution_count": 0,
      "outputs": [
        {
          "output_type": "display_data",
          "data": {
            "image/png": "[encoded data removed]",
            "text/plain": [
              "<matplotlib.figure.Figure at 0x7f94c1e67e90>"
            ]
          },
          "metadata": {
            "tags": []
          }
        }
      ]
    },
    {
      "metadata": {
        "id": "1v48VehsyydR",
        "colab_type": "code",
        "colab": {
          "base_uri": "https://localhost:8080/",
          "height": 278
        },
        "outputId": "8174eda5-fea4-4c62-c195-58f4df33f02e"
      },
      "cell_type": "code",
      "source": [
        "# Descriptive stats of polarity & subjectivity per number of stars\n",
        "df.groupby('stars').describe()"
      ],
      "execution_count": 0,
      "outputs": [
        {
          "output_type": "execute_result",
          "data": {
            "text/html": [
              "<div>\n",
              "<style scoped>\n",
              "    .dataframe tbody tr th:only-of-type {\n",
              "        vertical-align: middle;\n",
              "    }\n",
              "\n",
              "    .dataframe tbody tr th {\n",
              "        vertical-align: top;\n",
              "    }\n",
              "\n",
              "    .dataframe thead tr th {\n",
              "        text-align: left;\n",
              "    }\n",
              "\n",
              "    .dataframe thead tr:last-of-type th {\n",
              "        text-align: right;\n",
              "    }\n",
              "</style>\n",
              "<table border=\"1\" class=\"dataframe\">\n",
              "  <thead>\n",
              "    <tr>\n",
              "      <th></th>\n",
              "      <th colspan=\"8\" halign=\"left\">polarity</th>\n",
              "      <th colspan=\"8\" halign=\"left\">subjectivity</th>\n",
              "    </tr>\n",
              "    <tr>\n",
              "      <th></th>\n",
              "      <th>count</th>\n",
              "      <th>mean</th>\n",
              "      <th>std</th>\n",
              "      <th>min</th>\n",
              "      <th>25%</th>\n",
              "      <th>50%</th>\n",
              "      <th>75%</th>\n",
              "      <th>max</th>\n",
              "      <th>count</th>\n",
              "      <th>mean</th>\n",
              "      <th>std</th>\n",
              "      <th>min</th>\n",
              "      <th>25%</th>\n",
              "      <th>50%</th>\n",
              "      <th>75%</th>\n",
              "      <th>max</th>\n",
              "    </tr>\n",
              "    <tr>\n",
              "      <th>stars</th>\n",
              "      <th></th>\n",
              "      <th></th>\n",
              "      <th></th>\n",
              "      <th></th>\n",
              "      <th></th>\n",
              "      <th></th>\n",
              "      <th></th>\n",
              "      <th></th>\n",
              "      <th></th>\n",
              "      <th></th>\n",
              "      <th></th>\n",
              "      <th></th>\n",
              "      <th></th>\n",
              "      <th></th>\n",
              "      <th></th>\n",
              "      <th></th>\n",
              "    </tr>\n",
              "  </thead>\n",
              "  <tbody>\n",
              "    <tr>\n",
              "      <th>1</th>\n",
              "      <td>548.0</td>\n",
              "      <td>-0.034985</td>\n",
              "      <td>0.250174</td>\n",
              "      <td>-1.000000</td>\n",
              "      <td>-0.150000</td>\n",
              "      <td>0.000000</td>\n",
              "      <td>0.10634</td>\n",
              "      <td>0.80</td>\n",
              "      <td>548.0</td>\n",
              "      <td>0.445542</td>\n",
              "      <td>0.219904</td>\n",
              "      <td>0.0</td>\n",
              "      <td>0.343006</td>\n",
              "      <td>0.461528</td>\n",
              "      <td>0.550000</td>\n",
              "      <td>1.0</td>\n",
              "    </tr>\n",
              "    <tr>\n",
              "      <th>2</th>\n",
              "      <td>173.0</td>\n",
              "      <td>0.005690</td>\n",
              "      <td>0.260434</td>\n",
              "      <td>-0.700000</td>\n",
              "      <td>-0.125000</td>\n",
              "      <td>0.000000</td>\n",
              "      <td>0.12500</td>\n",
              "      <td>1.00</td>\n",
              "      <td>173.0</td>\n",
              "      <td>0.456120</td>\n",
              "      <td>0.219360</td>\n",
              "      <td>0.0</td>\n",
              "      <td>0.350000</td>\n",
              "      <td>0.471667</td>\n",
              "      <td>0.583333</td>\n",
              "      <td>1.0</td>\n",
              "    </tr>\n",
              "    <tr>\n",
              "      <th>3</th>\n",
              "      <td>275.0</td>\n",
              "      <td>0.123468</td>\n",
              "      <td>0.267310</td>\n",
              "      <td>-0.683333</td>\n",
              "      <td>0.000000</td>\n",
              "      <td>0.105357</td>\n",
              "      <td>0.25000</td>\n",
              "      <td>0.91</td>\n",
              "      <td>275.0</td>\n",
              "      <td>0.454663</td>\n",
              "      <td>0.234356</td>\n",
              "      <td>0.0</td>\n",
              "      <td>0.359167</td>\n",
              "      <td>0.491389</td>\n",
              "      <td>0.597531</td>\n",
              "      <td>1.0</td>\n",
              "    </tr>\n",
              "    <tr>\n",
              "      <th>4</th>\n",
              "      <td>600.0</td>\n",
              "      <td>0.342154</td>\n",
              "      <td>0.271417</td>\n",
              "      <td>-0.500000</td>\n",
              "      <td>0.140225</td>\n",
              "      <td>0.333333</td>\n",
              "      <td>0.50000</td>\n",
              "      <td>1.00</td>\n",
              "      <td>600.0</td>\n",
              "      <td>0.533534</td>\n",
              "      <td>0.232350</td>\n",
              "      <td>0.0</td>\n",
              "      <td>0.416667</td>\n",
              "      <td>0.550000</td>\n",
              "      <td>0.666667</td>\n",
              "      <td>1.0</td>\n",
              "    </tr>\n",
              "    <tr>\n",
              "      <th>5</th>\n",
              "      <td>1528.0</td>\n",
              "      <td>0.433479</td>\n",
              "      <td>0.291417</td>\n",
              "      <td>-0.700000</td>\n",
              "      <td>0.220000</td>\n",
              "      <td>0.411806</td>\n",
              "      <td>0.62500</td>\n",
              "      <td>1.00</td>\n",
              "      <td>1528.0</td>\n",
              "      <td>0.563889</td>\n",
              "      <td>0.250158</td>\n",
              "      <td>0.0</td>\n",
              "      <td>0.420000</td>\n",
              "      <td>0.575000</td>\n",
              "      <td>0.734250</td>\n",
              "      <td>1.0</td>\n",
              "    </tr>\n",
              "  </tbody>\n",
              "</table>\n",
              "</div>"
            ],
            "text/plain": [
              "      polarity                                                             \\\n",
              "         count      mean       std       min       25%       50%      75%   \n",
              "stars                                                                       \n",
              "1        548.0 -0.034985  0.250174 -1.000000 -0.150000  0.000000  0.10634   \n",
              "2        173.0  0.005690  0.260434 -0.700000 -0.125000  0.000000  0.12500   \n",
              "3        275.0  0.123468  0.267310 -0.683333  0.000000  0.105357  0.25000   \n",
              "4        600.0  0.342154  0.271417 -0.500000  0.140225  0.333333  0.50000   \n",
              "5       1528.0  0.433479  0.291417 -0.700000  0.220000  0.411806  0.62500   \n",
              "\n",
              "            subjectivity                                               \\\n",
              "        max        count      mean       std  min       25%       50%   \n",
              "stars                                                                   \n",
              "1      0.80        548.0  0.445542  0.219904  0.0  0.343006  0.461528   \n",
              "2      1.00        173.0  0.456120  0.219360  0.0  0.350000  0.471667   \n",
              "3      0.91        275.0  0.454663  0.234356  0.0  0.359167  0.491389   \n",
              "4      1.00        600.0  0.533534  0.232350  0.0  0.416667  0.550000   \n",
              "5      1.00       1528.0  0.563889  0.250158  0.0  0.420000  0.575000   \n",
              "\n",
              "                      \n",
              "            75%  max  \n",
              "stars                 \n",
              "1      0.550000  1.0  \n",
              "2      0.583333  1.0  \n",
              "3      0.597531  1.0  \n",
              "4      0.666667  1.0  \n",
              "5      0.734250  1.0  "
            ]
          },
          "metadata": {
            "tags": []
          },
          "execution_count": 37
        }
      ]
    },
    {
      "metadata": {
        "id": "nG6IrTPTyydX",
        "colab_type": "code",
        "colab": {}
      },
      "cell_type": "code",
      "source": [
        ""
      ],
      "execution_count": 0,
      "outputs": []
    }
  ]
}